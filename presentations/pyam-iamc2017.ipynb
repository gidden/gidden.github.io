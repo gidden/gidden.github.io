{
 "cells": [
  {
   "cell_type": "markdown",
   "metadata": {},
   "source": [
    "# Diagnostics, analysis and visualization tools <br /> for Integrated Assessment timeseries data\n",
    "\n",
    "<img style=\"float: right; height: 100px; margin-top: 10px;\" src=\"_static/IIASA_logo.png\">\n",
    "<img style=\"float: right; height: 80px;\" src=\"_static/IAMC_logo.jpg\">\n",
    "\n",
    "## First steps with the ``pyam_analysis`` package\n",
    "\n",
    "The ``pyam-analysis`` package provides a range of diagnostic tools and functions  \n",
    "for analyzing and working with IAMC-style timeseries data. \n",
    "\n",
    "The package can be used with data that follows the data template convention \n",
    "of the [Integrated Assessment Modeling Consortium](http://www.globalchange.umd.edu/iamc/) (IAMC).\n",
    "An illustrative example is shown below;\n",
    "see [data.ene.iiasa.ac.at/database](http://data.ene.iiasa.ac.at/database/) for more information.\n",
    "\n",
    "\n",
    "| **model**           | **scenario**  | **region** | **variable**   | **unit** | **2005** | **2010** | **2015** |\n",
    "|---------------------|---------------|------------|----------------|----------|----------|----------|----------|\n",
    "| MESSAGE V.4         | AMPERE3-Base  | World      | Primary Energy | EJ/y     | 454.5    |\t479.6    | ...      |\n",
    "| ...                 | ...           | ...        | ...            | ...      | ...      | ...      | ...      |"
   ]
  },
  {
   "cell_type": "markdown",
   "metadata": {
    "slideshow": {
     "slide_type": "-"
    }
   },
   "source": [
    "This notebook illustrates some basic functionality of the ``pyam-analsysis`` package\n",
    "and the ``IamDataFrame`` class:\n",
    "\n",
    "0. Importing timeseries data from a csv file.\n",
    "0. Listing models, scenarios and variables included in the data.\n",
    "0. Display of timeseries data as dataframe and visualization using simple plotting functions.\n",
    "0. Evaluating the model data and executing a range of diagnostic checks to identify data outliers.\n",
    "0. Categorization of scenarios according to timeseries data."
   ]
  },
  {
   "cell_type": "markdown",
   "metadata": {
    "slideshow": {
     "slide_type": "-"
    }
   },
   "source": [
    "## Tutorial data\n",
    "\n",
    "The timeseries data used in this tutorial is a partial snapshot of the scenario database \n",
    "compiled for the IPCC's Fifth Assessment Report (AR5):\n",
    "\n",
    "> Krey V., O. Masera, G. Blanford, T. Bruckner, R. Cooke, K. Fisher-Vanden, H. Haberl, E. Hertwich, E. Kriegler, D. Mueller, S. Paltsev, L. Price, S. Schlömer, D. Ürge-Vorsatz, D. van Vuuren, and T. Zwickel, 2014: *Annex II: Metrics & Methodology*.   \n",
    "> In: *Climate Change 2014: Mitigation of Climate Change. Contribution of Working Group III to the Fifth Assessment Report of the Intergovernmental Panel on Climate Change* [Edenhofer, O., R. Pichs-Madruga, Y. Sokona, E. Farahani, S. Kadner, K. Seyboth, A. Adler, I. Baum, S. Brunner, P. Eickemeier, B. Kriemann, J. Savolainen, S. Schlömer, C. von Stechow, T. Zwickel and J.C. Minx (eds.)]. Cambridge University Press, Cambridge, United Kingdom and New York, NY, USA. [Link](https://www.ipcc.ch/report/ar5/wg3/)\n",
    "\n",
    "The complete database is publicly available at [tntcat.iiasa.ac.at/AR5DB/](https://tntcat.iiasa.ac.at/AR5DB/).\n",
    "\n",
    "<img style=\"float: right; height: 100px;\" src=\"_static/AMPERE-Logo.png\">\n",
    "<img style=\"float: right; height: 40px; margin-top: 50px; margin-right: 20px;\" src=\"_static/EMF-Logo_v2.1.png\">\n",
    "\n",
    "The data snapshot used for this tutorial consists of selected data from two model intercomparison projects:\n",
    " - Energy Modeling Forum Round 27 \n",
    "   ([**EMF27**](https://emf.stanford.edu/projects/emf-27-global-model-comparison-exercise)),\n",
    "   see the Special Issue in [*Climatic Change* 3-4, 2014](https://link.springer.com/journal/10584/123/3/page/1).\n",
    " - EU FP7 project [**AMPERE**](https://tntcat.iiasa.ac.at/AMPEREDB/), \n",
    "   see the following scientific publications:\n",
    "   > - Riahi, K., et al. (2015). \"Locked into Copenhagen pledges — Implications of short-term emission targets \n",
    "   >   for the cost and feasibility of long-term climate goals.\" \n",
    "   >   *Technological Forecasting and Social Change* 90(Part A): 8-23.  \n",
    "   >   [DOI: 10.1016/j.techfore.2013.09.016](https://doi.org/10.1016/j.techfore.2013.09.016)\n",
    "   > - Kriegler, E., et al. (2015). \"Making or breaking climate targets: The AMPERE study on \n",
    "   >   staged accession scenarios for climate policy.\"\n",
    "   >   *Technological Forecasting and Social Change* 90(Part A): 24-44.  \n",
    "   >   [DOI: 10.1016/j.techfore.2013.09.021](https://doi.org/10.1016/j.techfore.2013.09.021)\n",
    "\n",
    "<div style=\"text-align: center; padding: 10px; border: 2px solid red; width: 700px\">\n",
    "*The data used in this tutorial is ONLY a partial snapshot of the IPCC AR5 scenario database!*  \n",
    "*This tutorial is only intended for an illustration of the ``pyam-analysis`` package.*\n",
    "</div>"
   ]
  },
  {
   "cell_type": "markdown",
   "metadata": {
    "slideshow": {
     "slide_type": "slide"
    }
   },
   "source": [
    "## Import package and load data from the AR5 tutorial csv snapshot file\n",
    "\n",
    "First, we import the snapshot timeseries data from the file ``tutorial_AR5_data.csv`` in the ``tutorial`` folder.\n",
    "\n",
    "As a first step, we show lists of all models, scenarios, regions, and variables (with units) included in the snapshot."
   ]
  },
  {
   "cell_type": "code",
   "execution_count": 1,
   "metadata": {
    "slideshow": {
     "slide_type": "fragment"
    }
   },
   "outputs": [
    {
     "data": {
      "application/javascript": [
       "IPython.OutputArea.prototype._should_scroll = function(lines) { return false; }"
      ],
      "text/plain": [
       "<IPython.core.display.Javascript object>"
      ]
     },
     "metadata": {},
     "output_type": "display_data"
    }
   ],
   "source": [
    "import pyam_analysis as iam"
   ]
  },
  {
   "cell_type": "code",
   "execution_count": 2,
   "metadata": {
    "collapsed": true,
    "slideshow": {
     "slide_type": "fragment"
    }
   },
   "outputs": [],
   "source": [
    "df = iam.IamDataFrame(data='tutorial_AR5_data.csv')"
   ]
  },
  {
   "cell_type": "markdown",
   "metadata": {
    "slideshow": {
     "slide_type": "slide"
    }
   },
   "source": [
    "# What's in our dataset?"
   ]
  },
  {
   "cell_type": "code",
   "execution_count": 3,
   "metadata": {
    "slideshow": {
     "slide_type": "slide"
    }
   },
   "outputs": [
    {
     "data": {
      "text/plain": [
       "['AIM-Enduse 12.1',\n",
       " 'GCAM 3.0',\n",
       " 'IMAGE 2.4',\n",
       " 'MERGE_EMF27',\n",
       " 'MESSAGE V.4',\n",
       " 'REMIND 1.5',\n",
       " 'WITCH_EMF27']"
      ]
     },
     "execution_count": 3,
     "metadata": {},
     "output_type": "execute_result"
    }
   ],
   "source": [
    "df.models()"
   ]
  },
  {
   "cell_type": "code",
   "execution_count": 4,
   "metadata": {
    "slideshow": {
     "slide_type": "fragment"
    }
   },
   "outputs": [
    {
     "data": {
      "text/plain": [
       "['EMF27-450-Conv',\n",
       " 'EMF27-450-NoCCS',\n",
       " 'EMF27-550-LimBio',\n",
       " 'EMF27-Base-FullTech',\n",
       " 'EMF27-G8-EERE',\n",
       " 'AMPERE3-450',\n",
       " 'AMPERE3-450P-CE',\n",
       " 'AMPERE3-450P-EU',\n",
       " 'AMPERE3-550',\n",
       " 'AMPERE3-Base-EUback',\n",
       " 'AMPERE3-CF450P-EU',\n",
       " 'AMPERE3-RefPol',\n",
       " 'AMPERE3-550P-EU']"
      ]
     },
     "execution_count": 4,
     "metadata": {},
     "output_type": "execute_result"
    }
   ],
   "source": [
    "df.scenarios()"
   ]
  },
  {
   "cell_type": "code",
   "execution_count": 5,
   "metadata": {
    "slideshow": {
     "slide_type": "fragment"
    }
   },
   "outputs": [
    {
     "data": {
      "text/plain": [
       "['ASIA', 'LAM', 'MAF', 'OECD90', 'REF', 'World']"
      ]
     },
     "execution_count": 5,
     "metadata": {},
     "output_type": "execute_result"
    }
   ],
   "source": [
    "df.regions()"
   ]
  },
  {
   "cell_type": "code",
   "execution_count": 6,
   "metadata": {
    "slideshow": {
     "slide_type": "slide"
    }
   },
   "outputs": [
    {
     "data": {
      "text/html": [
       "<div>\n",
       "<style scoped>\n",
       "    .dataframe tbody tr th:only-of-type {\n",
       "        vertical-align: middle;\n",
       "    }\n",
       "\n",
       "    .dataframe tbody tr th {\n",
       "        vertical-align: top;\n",
       "    }\n",
       "\n",
       "    .dataframe thead th {\n",
       "        text-align: right;\n",
       "    }\n",
       "</style>\n",
       "<table border=\"1\" class=\"dataframe\">\n",
       "  <thead>\n",
       "    <tr style=\"text-align: right;\">\n",
       "      <th></th>\n",
       "      <th>variable</th>\n",
       "      <th>unit</th>\n",
       "    </tr>\n",
       "  </thead>\n",
       "  <tbody>\n",
       "    <tr>\n",
       "      <th>0</th>\n",
       "      <td>Emissions|CO2</td>\n",
       "      <td>Mt CO2/yr</td>\n",
       "    </tr>\n",
       "    <tr>\n",
       "      <th>1</th>\n",
       "      <td>Emissions|CO2|Fossil Fuels and Industry</td>\n",
       "      <td>Mt CO2/yr</td>\n",
       "    </tr>\n",
       "    <tr>\n",
       "      <th>2</th>\n",
       "      <td>Primary Energy</td>\n",
       "      <td>EJ/yr</td>\n",
       "    </tr>\n",
       "    <tr>\n",
       "      <th>3</th>\n",
       "      <td>Emissions|CO2|Fossil Fuels and Industry|Energy...</td>\n",
       "      <td>Mt CO2/yr</td>\n",
       "    </tr>\n",
       "    <tr>\n",
       "      <th>4</th>\n",
       "      <td>Emissions|CO2|Fossil Fuels and Industry|Energy...</td>\n",
       "      <td>Mt CO2/yr</td>\n",
       "    </tr>\n",
       "    <tr>\n",
       "      <th>5</th>\n",
       "      <td>Price|Carbon</td>\n",
       "      <td>US$2005/t CO2</td>\n",
       "    </tr>\n",
       "    <tr>\n",
       "      <th>6</th>\n",
       "      <td>Primary Energy|Coal</td>\n",
       "      <td>EJ/yr</td>\n",
       "    </tr>\n",
       "    <tr>\n",
       "      <th>7</th>\n",
       "      <td>Primary Energy|Fossil|w/ CCS</td>\n",
       "      <td>EJ/yr</td>\n",
       "    </tr>\n",
       "    <tr>\n",
       "      <th>8</th>\n",
       "      <td>Temperature|Global Mean|MAGICC6|MED</td>\n",
       "      <td>deg C</td>\n",
       "    </tr>\n",
       "  </tbody>\n",
       "</table>\n",
       "</div>"
      ],
      "text/plain": [
       "                                            variable           unit\n",
       "0                                      Emissions|CO2      Mt CO2/yr\n",
       "1            Emissions|CO2|Fossil Fuels and Industry      Mt CO2/yr\n",
       "2                                     Primary Energy          EJ/yr\n",
       "3  Emissions|CO2|Fossil Fuels and Industry|Energy...      Mt CO2/yr\n",
       "4  Emissions|CO2|Fossil Fuels and Industry|Energy...      Mt CO2/yr\n",
       "5                                       Price|Carbon  US$2005/t CO2\n",
       "6                                Primary Energy|Coal          EJ/yr\n",
       "7                       Primary Energy|Fossil|w/ CCS          EJ/yr\n",
       "8                Temperature|Global Mean|MAGICC6|MED          deg C"
      ]
     },
     "execution_count": 6,
     "metadata": {},
     "output_type": "execute_result"
    }
   ],
   "source": [
    "df.variables(include_units=True)"
   ]
  },
  {
   "cell_type": "markdown",
   "metadata": {
    "slideshow": {
     "slide_type": "slide"
    }
   },
   "source": [
    "## Filtering Data"
   ]
  },
  {
   "cell_type": "markdown",
   "metadata": {
    "slideshow": {
     "slide_type": "skip"
    }
   },
   "source": [
    "Most functions of the ``IamDataFrame`` class take an (optional) argument ``filters``,\n",
    "i.e., a dictionary of filter criteria.\n",
    "\n",
    "### Filtering by model names, scenarios and regions\n",
    "\n",
    "The feature for filtering by **model, scenario or region** is implemented\n",
    "using [regular expressions](https://docs.python.org/3.6/library/re.html) (regex, re)\n",
    "and the _re.match()_ function.\n",
    "This implies that the filtering is done from the beginning of the text string.\n",
    "> Applying the filter ``'model': 'MESSAGE'`` to the function ``scenarios()`` \n",
    "  will return all MESSAGE V.4 scenarios included in the snapshot.  \n",
    "> Filtering for _ESSAGE_ will return an empty set."
   ]
  },
  {
   "cell_type": "code",
   "execution_count": 7,
   "metadata": {
    "slideshow": {
     "slide_type": "slide"
    }
   },
   "outputs": [
    {
     "data": {
      "text/plain": [
       "['AMPERE3-450',\n",
       " 'AMPERE3-450P-EU',\n",
       " 'AMPERE3-550',\n",
       " 'AMPERE3-RefPol',\n",
       " 'EMF27-550-LimBio',\n",
       " 'EMF27-Base-FullTech']"
      ]
     },
     "execution_count": 7,
     "metadata": {},
     "output_type": "execute_result"
    }
   ],
   "source": [
    "df.scenarios({'model': 'MESSAGE'})"
   ]
  },
  {
   "cell_type": "code",
   "execution_count": 8,
   "metadata": {
    "slideshow": {
     "slide_type": "fragment"
    }
   },
   "outputs": [
    {
     "data": {
      "text/plain": [
       "[]"
      ]
     },
     "execution_count": 8,
     "metadata": {},
     "output_type": "execute_result"
    }
   ],
   "source": [
    "df.scenarios({'model': 'ESSAGE'})"
   ]
  },
  {
   "cell_type": "markdown",
   "metadata": {
    "slideshow": {
     "slide_type": "skip"
    }
   },
   "source": [
    "### Filtering by variables and hierarchy levels"
   ]
  },
  {
   "cell_type": "markdown",
   "metadata": {
    "slideshow": {
     "slide_type": "skip"
    }
   },
   "source": [
    "Filtering for **variable** strings using regex\n",
    "is problematic due to the frequent use of the ``\"|\"`` character in the IAMC template\n",
    "to specify a hierarchical.\n",
    "Therefore, this package implements a pseudo-regex syntax, \n",
    "where ``|`` is escaped, ``*`` is used as a wildcard\n",
    "and exact matching at the end of the string is enforced.\n",
    "(in regex lingo, ``*`` is replaced by ``.*`` and ``$`` is appended to the filter string).\n",
    "> Filtering for _Primary Energy_ will return only exactly those data.  \n",
    "> Filtering for _Primary Energy|*_ will return all sub-categories of \n",
    "> primary-energy level (and only the sub-categories).\n",
    "\n",
    "In additon, IAM variables can be filtered by the **level**,\n",
    "i.e., the \"depth\" of the variable in a hierarchical reading of the string separated by `\"|\"`.\n",
    "That is, the variable _Primary Energy_ has level 0, while _Primary Energy|Coal_ has level 1.\n",
    "Filtering by both **variables** and **level** will search for the hierarchical depth \n",
    "_following the <variable> string_, so filter arguments _Primary Energy|*_ and _level = 0_\n",
    "will return all variables immediately below _Primary Energy_.\n",
    "Filtering by **level** only will return all variables up to that depth.\n",
    "\n",
    "To illustrate the functionality of the filters, we first show all sub-categories of the ``Emissions`` variable.  \n",
    "Then, we reduce variables to only two hierarchical levels below ``\"Emissions|\"``; the list returned by the function call will not include ``Emissions|CO2|Fossil Fuels and Industry|Energy Supply|Electricity``, because this variable is three hierarchical levels below ``\"Emissions|\"``.\n",
    "\n",
    "The third example shows how to filter only by hierarchical level. The function returns all variables that are at the top hierarchical level (i.e., ``Primary Energy``) and those at the first sub-category level.\n",
    "Keep in mind that there are no variables ``Emissions`` or ``Price`` (no top level)."
   ]
  },
  {
   "cell_type": "code",
   "execution_count": 9,
   "metadata": {
    "slideshow": {
     "slide_type": "slide"
    }
   },
   "outputs": [
    {
     "data": {
      "text/plain": [
       "['Emissions|CO2',\n",
       " 'Emissions|CO2|Fossil Fuels and Industry',\n",
       " 'Emissions|CO2|Fossil Fuels and Industry|Energy Supply',\n",
       " 'Emissions|CO2|Fossil Fuels and Industry|Energy Supply|Electricity']"
      ]
     },
     "execution_count": 9,
     "metadata": {},
     "output_type": "execute_result"
    }
   ],
   "source": [
    "df.variables(filters={'variable': 'Emissions|*'})"
   ]
  },
  {
   "cell_type": "code",
   "execution_count": 10,
   "metadata": {
    "slideshow": {
     "slide_type": "fragment"
    }
   },
   "outputs": [
    {
     "data": {
      "text/plain": [
       "['Emissions|CO2',\n",
       " 'Emissions|CO2|Fossil Fuels and Industry',\n",
       " 'Emissions|CO2|Fossil Fuels and Industry|Energy Supply']"
      ]
     },
     "execution_count": 10,
     "metadata": {},
     "output_type": "execute_result"
    }
   ],
   "source": [
    "df.variables(filters={'variable': 'Emissions|*', 'level': 2})"
   ]
  },
  {
   "cell_type": "code",
   "execution_count": 11,
   "metadata": {
    "slideshow": {
     "slide_type": "fragment"
    }
   },
   "outputs": [
    {
     "data": {
      "text/plain": [
       "['Emissions|CO2', 'Price|Carbon', 'Primary Energy', 'Primary Energy|Coal']"
      ]
     },
     "execution_count": 11,
     "metadata": {},
     "output_type": "execute_result"
    }
   ],
   "source": [
    "df.variables(filters={'level': 1})"
   ]
  },
  {
   "cell_type": "markdown",
   "metadata": {
    "slideshow": {
     "slide_type": "skip"
    }
   },
   "source": [
    "### Filtering by year\n",
    "\n",
    "Filtering for **years** can be done by integer number, a list of integers, or the Python class ``range``.  \n",
    "Note that the last year of a range is not included, so ``range(2010,2015)``\n",
    "is interpreted as ``[2010, 2011, 2012, 2013, 2014]``."
   ]
  },
  {
   "cell_type": "markdown",
   "metadata": {
    "slideshow": {
     "slide_type": "skip"
    }
   },
   "source": [
    "## Getting help\n",
    "\n",
    "When in doubt, you can look at the help for any function by appending it with a ``?``."
   ]
  },
  {
   "cell_type": "code",
   "execution_count": 12,
   "metadata": {
    "collapsed": true,
    "slideshow": {
     "slide_type": "skip"
    }
   },
   "outputs": [],
   "source": [
    "df.models?"
   ]
  },
  {
   "cell_type": "markdown",
   "metadata": {
    "slideshow": {
     "slide_type": "slide"
    }
   },
   "source": [
    "## Working with Timeseries"
   ]
  },
  {
   "cell_type": "markdown",
   "metadata": {
    "slideshow": {
     "slide_type": "skip"
    }
   },
   "source": [
    "As a next step, we want to view a selection of the data in the tutorial snapshot using the IAMC standard.\n",
    "The filtered data can exported as a csv file by appending `.to_csv('selected_data.csv')` to the next command.\n",
    "\n",
    "For displaying data in a different format, the class ``IamDataFrame`` has a wrapper of the ``pandas.DataFrame.pivot_table()`` function. It allows to flexibly specify the columns and rows.\n",
    "The function automatically aggregates by summation or counting (specified by the parameter `aggfunc`) \n",
    "over all timeseries data identifiers ('model', 'scenario', 'variable', 'region', 'unit', 'year')\n",
    "which are not used as `index` or `columns`.\n",
    "\n",
    "In the example below, the filter of the timeseries data is set for all subcategories of 'Primary Energy', \n",
    "which are then summed up in the displayed table."
   ]
  },
  {
   "cell_type": "code",
   "execution_count": 13,
   "metadata": {
    "slideshow": {
     "slide_type": "slide"
    }
   },
   "outputs": [
    {
     "data": {
      "text/html": [
       "<div>\n",
       "<style scoped>\n",
       "    .dataframe tbody tr th:only-of-type {\n",
       "        vertical-align: middle;\n",
       "    }\n",
       "\n",
       "    .dataframe tbody tr th {\n",
       "        vertical-align: top;\n",
       "    }\n",
       "\n",
       "    .dataframe thead th {\n",
       "        text-align: right;\n",
       "    }\n",
       "</style>\n",
       "<table border=\"1\" class=\"dataframe\">\n",
       "  <thead>\n",
       "    <tr style=\"text-align: right;\">\n",
       "      <th></th>\n",
       "      <th></th>\n",
       "      <th></th>\n",
       "      <th></th>\n",
       "      <th>year</th>\n",
       "      <th>2005</th>\n",
       "      <th>2010</th>\n",
       "      <th>2020</th>\n",
       "      <th>2030</th>\n",
       "      <th>2040</th>\n",
       "      <th>2050</th>\n",
       "      <th>2060</th>\n",
       "      <th>2070</th>\n",
       "      <th>2080</th>\n",
       "      <th>2090</th>\n",
       "      <th>2100</th>\n",
       "    </tr>\n",
       "    <tr>\n",
       "      <th>model</th>\n",
       "      <th>scenario</th>\n",
       "      <th>region</th>\n",
       "      <th>variable</th>\n",
       "      <th>unit</th>\n",
       "      <th></th>\n",
       "      <th></th>\n",
       "      <th></th>\n",
       "      <th></th>\n",
       "      <th></th>\n",
       "      <th></th>\n",
       "      <th></th>\n",
       "      <th></th>\n",
       "      <th></th>\n",
       "      <th></th>\n",
       "      <th></th>\n",
       "    </tr>\n",
       "  </thead>\n",
       "  <tbody>\n",
       "    <tr>\n",
       "      <th rowspan=\"3\" valign=\"top\">GCAM 3.0</th>\n",
       "      <th>AMPERE3-450</th>\n",
       "      <th>World</th>\n",
       "      <th>Primary Energy|Coal</th>\n",
       "      <th>EJ/yr</th>\n",
       "      <td>120.76</td>\n",
       "      <td>144.95</td>\n",
       "      <td>176.44</td>\n",
       "      <td>204.42</td>\n",
       "      <td>212.84</td>\n",
       "      <td>186.02</td>\n",
       "      <td>138.23</td>\n",
       "      <td>106.98</td>\n",
       "      <td>82.44</td>\n",
       "      <td>36.55</td>\n",
       "      <td>14.89</td>\n",
       "    </tr>\n",
       "    <tr>\n",
       "      <th>AMPERE3-450P-CE</th>\n",
       "      <th>World</th>\n",
       "      <th>Primary Energy|Coal</th>\n",
       "      <th>EJ/yr</th>\n",
       "      <td>120.76</td>\n",
       "      <td>144.95</td>\n",
       "      <td>178.98</td>\n",
       "      <td>218.24</td>\n",
       "      <td>213.35</td>\n",
       "      <td>192.45</td>\n",
       "      <td>142.64</td>\n",
       "      <td>108.72</td>\n",
       "      <td>82.73</td>\n",
       "      <td>36.89</td>\n",
       "      <td>15.22</td>\n",
       "    </tr>\n",
       "    <tr>\n",
       "      <th>AMPERE3-450P-EU</th>\n",
       "      <th>World</th>\n",
       "      <th>Primary Energy|Coal</th>\n",
       "      <th>EJ/yr</th>\n",
       "      <td>120.76</td>\n",
       "      <td>144.95</td>\n",
       "      <td>189.86</td>\n",
       "      <td>241.25</td>\n",
       "      <td>224.25</td>\n",
       "      <td>191.70</td>\n",
       "      <td>136.72</td>\n",
       "      <td>102.51</td>\n",
       "      <td>80.72</td>\n",
       "      <td>35.70</td>\n",
       "      <td>14.45</td>\n",
       "    </tr>\n",
       "    <tr>\n",
       "      <th rowspan=\"2\" valign=\"top\">IMAGE 2.4</th>\n",
       "      <th>AMPERE3-450</th>\n",
       "      <th>World</th>\n",
       "      <th>Primary Energy|Coal</th>\n",
       "      <th>EJ/yr</th>\n",
       "      <td>111.62</td>\n",
       "      <td>138.69</td>\n",
       "      <td>148.60</td>\n",
       "      <td>121.24</td>\n",
       "      <td>102.62</td>\n",
       "      <td>101.41</td>\n",
       "      <td>111.41</td>\n",
       "      <td>138.40</td>\n",
       "      <td>181.03</td>\n",
       "      <td>224.03</td>\n",
       "      <td>264.77</td>\n",
       "    </tr>\n",
       "    <tr>\n",
       "      <th>AMPERE3-450P-CE</th>\n",
       "      <th>World</th>\n",
       "      <th>Primary Energy|Coal</th>\n",
       "      <th>EJ/yr</th>\n",
       "      <td>111.62</td>\n",
       "      <td>138.69</td>\n",
       "      <td>161.72</td>\n",
       "      <td>154.18</td>\n",
       "      <td>125.14</td>\n",
       "      <td>105.32</td>\n",
       "      <td>120.83</td>\n",
       "      <td>151.58</td>\n",
       "      <td>192.67</td>\n",
       "      <td>249.50</td>\n",
       "      <td>294.40</td>\n",
       "    </tr>\n",
       "  </tbody>\n",
       "</table>\n",
       "</div>"
      ],
      "text/plain": [
       "year                                                          2005    2010  \\\n",
       "model     scenario        region variable            unit                    \n",
       "GCAM 3.0  AMPERE3-450     World  Primary Energy|Coal EJ/yr  120.76  144.95   \n",
       "          AMPERE3-450P-CE World  Primary Energy|Coal EJ/yr  120.76  144.95   \n",
       "          AMPERE3-450P-EU World  Primary Energy|Coal EJ/yr  120.76  144.95   \n",
       "IMAGE 2.4 AMPERE3-450     World  Primary Energy|Coal EJ/yr  111.62  138.69   \n",
       "          AMPERE3-450P-CE World  Primary Energy|Coal EJ/yr  111.62  138.69   \n",
       "\n",
       "year                                                          2020    2030  \\\n",
       "model     scenario        region variable            unit                    \n",
       "GCAM 3.0  AMPERE3-450     World  Primary Energy|Coal EJ/yr  176.44  204.42   \n",
       "          AMPERE3-450P-CE World  Primary Energy|Coal EJ/yr  178.98  218.24   \n",
       "          AMPERE3-450P-EU World  Primary Energy|Coal EJ/yr  189.86  241.25   \n",
       "IMAGE 2.4 AMPERE3-450     World  Primary Energy|Coal EJ/yr  148.60  121.24   \n",
       "          AMPERE3-450P-CE World  Primary Energy|Coal EJ/yr  161.72  154.18   \n",
       "\n",
       "year                                                          2040    2050  \\\n",
       "model     scenario        region variable            unit                    \n",
       "GCAM 3.0  AMPERE3-450     World  Primary Energy|Coal EJ/yr  212.84  186.02   \n",
       "          AMPERE3-450P-CE World  Primary Energy|Coal EJ/yr  213.35  192.45   \n",
       "          AMPERE3-450P-EU World  Primary Energy|Coal EJ/yr  224.25  191.70   \n",
       "IMAGE 2.4 AMPERE3-450     World  Primary Energy|Coal EJ/yr  102.62  101.41   \n",
       "          AMPERE3-450P-CE World  Primary Energy|Coal EJ/yr  125.14  105.32   \n",
       "\n",
       "year                                                          2060    2070  \\\n",
       "model     scenario        region variable            unit                    \n",
       "GCAM 3.0  AMPERE3-450     World  Primary Energy|Coal EJ/yr  138.23  106.98   \n",
       "          AMPERE3-450P-CE World  Primary Energy|Coal EJ/yr  142.64  108.72   \n",
       "          AMPERE3-450P-EU World  Primary Energy|Coal EJ/yr  136.72  102.51   \n",
       "IMAGE 2.4 AMPERE3-450     World  Primary Energy|Coal EJ/yr  111.41  138.40   \n",
       "          AMPERE3-450P-CE World  Primary Energy|Coal EJ/yr  120.83  151.58   \n",
       "\n",
       "year                                                          2080    2090  \\\n",
       "model     scenario        region variable            unit                    \n",
       "GCAM 3.0  AMPERE3-450     World  Primary Energy|Coal EJ/yr   82.44   36.55   \n",
       "          AMPERE3-450P-CE World  Primary Energy|Coal EJ/yr   82.73   36.89   \n",
       "          AMPERE3-450P-EU World  Primary Energy|Coal EJ/yr   80.72   35.70   \n",
       "IMAGE 2.4 AMPERE3-450     World  Primary Energy|Coal EJ/yr  181.03  224.03   \n",
       "          AMPERE3-450P-CE World  Primary Energy|Coal EJ/yr  192.67  249.50   \n",
       "\n",
       "year                                                          2100  \n",
       "model     scenario        region variable            unit           \n",
       "GCAM 3.0  AMPERE3-450     World  Primary Energy|Coal EJ/yr   14.89  \n",
       "          AMPERE3-450P-CE World  Primary Energy|Coal EJ/yr   15.22  \n",
       "          AMPERE3-450P-EU World  Primary Energy|Coal EJ/yr   14.45  \n",
       "IMAGE 2.4 AMPERE3-450     World  Primary Energy|Coal EJ/yr  264.77  \n",
       "          AMPERE3-450P-CE World  Primary Energy|Coal EJ/yr  294.40  "
      ]
     },
     "execution_count": 13,
     "metadata": {},
     "output_type": "execute_result"
    }
   ],
   "source": [
    "df.timeseries(filters={\n",
    "    'scenario': 'AMPERE3-450', \n",
    "    'variable': 'Primary Energy|Coal', \n",
    "    'region': 'World'\n",
    "}).head()"
   ]
  },
  {
   "cell_type": "code",
   "execution_count": 14,
   "metadata": {
    "slideshow": {
     "slide_type": "slide"
    }
   },
   "outputs": [
    {
     "data": {
      "text/html": [
       "<div>\n",
       "<style scoped>\n",
       "    .dataframe tbody tr th:only-of-type {\n",
       "        vertical-align: middle;\n",
       "    }\n",
       "\n",
       "    .dataframe tbody tr th {\n",
       "        vertical-align: top;\n",
       "    }\n",
       "\n",
       "    .dataframe thead th {\n",
       "        text-align: right;\n",
       "    }\n",
       "</style>\n",
       "<table border=\"1\" class=\"dataframe\">\n",
       "  <thead>\n",
       "    <tr style=\"text-align: right;\">\n",
       "      <th>scenario</th>\n",
       "      <th>AMPERE3-450</th>\n",
       "      <th>AMPERE3-450P-CE</th>\n",
       "      <th>AMPERE3-450P-EU</th>\n",
       "      <th>AMPERE3-550</th>\n",
       "      <th>AMPERE3-550P-EU</th>\n",
       "      <th>AMPERE3-Base-EUback</th>\n",
       "      <th>AMPERE3-CF450P-EU</th>\n",
       "      <th>AMPERE3-RefPol</th>\n",
       "      <th>EMF27-450-Conv</th>\n",
       "      <th>EMF27-450-NoCCS</th>\n",
       "      <th>EMF27-550-LimBio</th>\n",
       "      <th>EMF27-Base-FullTech</th>\n",
       "      <th>EMF27-G8-EERE</th>\n",
       "    </tr>\n",
       "    <tr>\n",
       "      <th>year</th>\n",
       "      <th></th>\n",
       "      <th></th>\n",
       "      <th></th>\n",
       "      <th></th>\n",
       "      <th></th>\n",
       "      <th></th>\n",
       "      <th></th>\n",
       "      <th></th>\n",
       "      <th></th>\n",
       "      <th></th>\n",
       "      <th></th>\n",
       "      <th></th>\n",
       "      <th></th>\n",
       "    </tr>\n",
       "  </thead>\n",
       "  <tbody>\n",
       "    <tr>\n",
       "      <th>2005</th>\n",
       "      <td>1821.09</td>\n",
       "      <td>1366.48</td>\n",
       "      <td>1821.09</td>\n",
       "      <td>1818.71</td>\n",
       "      <td>464.82</td>\n",
       "      <td>922.58</td>\n",
       "      <td>925.23</td>\n",
       "      <td>1818.44</td>\n",
       "      <td>2234.35</td>\n",
       "      <td>1381.84</td>\n",
       "      <td>3130.81</td>\n",
       "      <td>3130.60</td>\n",
       "      <td>868.79</td>\n",
       "    </tr>\n",
       "    <tr>\n",
       "      <th>2010</th>\n",
       "      <td>1972.13</td>\n",
       "      <td>1492.28</td>\n",
       "      <td>1972.02</td>\n",
       "      <td>1969.57</td>\n",
       "      <td>514.07</td>\n",
       "      <td>1015.78</td>\n",
       "      <td>1018.44</td>\n",
       "      <td>1969.50</td>\n",
       "      <td>2504.99</td>\n",
       "      <td>1542.90</td>\n",
       "      <td>3457.08</td>\n",
       "      <td>3459.28</td>\n",
       "      <td>985.16</td>\n",
       "    </tr>\n",
       "    <tr>\n",
       "      <th>2020</th>\n",
       "      <td>2253.49</td>\n",
       "      <td>1787.40</td>\n",
       "      <td>2399.41</td>\n",
       "      <td>2322.23</td>\n",
       "      <td>611.34</td>\n",
       "      <td>1258.24</td>\n",
       "      <td>1262.07</td>\n",
       "      <td>2401.37</td>\n",
       "      <td>2428.61</td>\n",
       "      <td>1424.26</td>\n",
       "      <td>3781.16</td>\n",
       "      <td>4135.65</td>\n",
       "      <td>947.08</td>\n",
       "    </tr>\n",
       "    <tr>\n",
       "      <th>2030</th>\n",
       "      <td>2530.95</td>\n",
       "      <td>2101.60</td>\n",
       "      <td>2863.85</td>\n",
       "      <td>2670.22</td>\n",
       "      <td>734.11</td>\n",
       "      <td>1532.12</td>\n",
       "      <td>1536.54</td>\n",
       "      <td>2869.96</td>\n",
       "      <td>2545.94</td>\n",
       "      <td>1470.64</td>\n",
       "      <td>4057.28</td>\n",
       "      <td>4846.37</td>\n",
       "      <td>933.08</td>\n",
       "    </tr>\n",
       "    <tr>\n",
       "      <th>2040</th>\n",
       "      <td>2795.47</td>\n",
       "      <td>2206.09</td>\n",
       "      <td>2940.96</td>\n",
       "      <td>3000.37</td>\n",
       "      <td>789.70</td>\n",
       "      <td>1802.62</td>\n",
       "      <td>1574.14</td>\n",
       "      <td>3305.70</td>\n",
       "      <td>2698.99</td>\n",
       "      <td>1670.51</td>\n",
       "      <td>4355.16</td>\n",
       "      <td>5588.19</td>\n",
       "      <td>1007.83</td>\n",
       "    </tr>\n",
       "  </tbody>\n",
       "</table>\n",
       "</div>"
      ],
      "text/plain": [
       "scenario  AMPERE3-450  AMPERE3-450P-CE  AMPERE3-450P-EU  AMPERE3-550  \\\n",
       "year                                                                   \n",
       "2005          1821.09          1366.48          1821.09      1818.71   \n",
       "2010          1972.13          1492.28          1972.02      1969.57   \n",
       "2020          2253.49          1787.40          2399.41      2322.23   \n",
       "2030          2530.95          2101.60          2863.85      2670.22   \n",
       "2040          2795.47          2206.09          2940.96      3000.37   \n",
       "\n",
       "scenario  AMPERE3-550P-EU  AMPERE3-Base-EUback  AMPERE3-CF450P-EU  \\\n",
       "year                                                                \n",
       "2005               464.82               922.58             925.23   \n",
       "2010               514.07              1015.78            1018.44   \n",
       "2020               611.34              1258.24            1262.07   \n",
       "2030               734.11              1532.12            1536.54   \n",
       "2040               789.70              1802.62            1574.14   \n",
       "\n",
       "scenario  AMPERE3-RefPol  EMF27-450-Conv  EMF27-450-NoCCS  EMF27-550-LimBio  \\\n",
       "year                                                                          \n",
       "2005             1818.44         2234.35          1381.84           3130.81   \n",
       "2010             1969.50         2504.99          1542.90           3457.08   \n",
       "2020             2401.37         2428.61          1424.26           3781.16   \n",
       "2030             2869.96         2545.94          1470.64           4057.28   \n",
       "2040             3305.70         2698.99          1670.51           4355.16   \n",
       "\n",
       "scenario  EMF27-Base-FullTech  EMF27-G8-EERE  \n",
       "year                                          \n",
       "2005                  3130.60         868.79  \n",
       "2010                  3459.28         985.16  \n",
       "2020                  4135.65         947.08  \n",
       "2030                  4846.37         933.08  \n",
       "2040                  5588.19        1007.83  "
      ]
     },
     "execution_count": 14,
     "metadata": {},
     "output_type": "execute_result"
    }
   ],
   "source": [
    "df.pivot_table(\n",
    "    index=['year'], \n",
    "    columns=['scenario'], \n",
    "    values='value', \n",
    "    aggfunc='sum',\n",
    "    filters={'variable': 'Primary Energy', 'region': 'World'}\n",
    ").head()"
   ]
  },
  {
   "cell_type": "markdown",
   "metadata": {
    "slideshow": {
     "slide_type": "slide"
    }
   },
   "source": [
    "If you are familiar with the `python` package `pandas`, you can access the `pd.DataFrame` directly."
   ]
  },
  {
   "cell_type": "code",
   "execution_count": 15,
   "metadata": {
    "slideshow": {
     "slide_type": "fragment"
    }
   },
   "outputs": [
    {
     "data": {
      "text/html": [
       "<div>\n",
       "<style scoped>\n",
       "    .dataframe tbody tr th:only-of-type {\n",
       "        vertical-align: middle;\n",
       "    }\n",
       "\n",
       "    .dataframe tbody tr th {\n",
       "        vertical-align: top;\n",
       "    }\n",
       "\n",
       "    .dataframe thead th {\n",
       "        text-align: right;\n",
       "    }\n",
       "</style>\n",
       "<table border=\"1\" class=\"dataframe\">\n",
       "  <thead>\n",
       "    <tr style=\"text-align: right;\">\n",
       "      <th></th>\n",
       "      <th>model</th>\n",
       "      <th>scenario</th>\n",
       "      <th>region</th>\n",
       "      <th>variable</th>\n",
       "      <th>unit</th>\n",
       "      <th>year</th>\n",
       "      <th>value</th>\n",
       "    </tr>\n",
       "  </thead>\n",
       "  <tbody>\n",
       "    <tr>\n",
       "      <th>0</th>\n",
       "      <td>AIM-Enduse 12.1</td>\n",
       "      <td>EMF27-450-Conv</td>\n",
       "      <td>ASIA</td>\n",
       "      <td>Emissions|CO2</td>\n",
       "      <td>Mt CO2/yr</td>\n",
       "      <td>2005</td>\n",
       "      <td>10540.74</td>\n",
       "    </tr>\n",
       "    <tr>\n",
       "      <th>1</th>\n",
       "      <td>AIM-Enduse 12.1</td>\n",
       "      <td>EMF27-450-Conv</td>\n",
       "      <td>ASIA</td>\n",
       "      <td>Emissions|CO2|Fossil Fuels and Industry</td>\n",
       "      <td>Mt CO2/yr</td>\n",
       "      <td>2005</td>\n",
       "      <td>9126.18</td>\n",
       "    </tr>\n",
       "    <tr>\n",
       "      <th>2</th>\n",
       "      <td>AIM-Enduse 12.1</td>\n",
       "      <td>EMF27-450-Conv</td>\n",
       "      <td>ASIA</td>\n",
       "      <td>Primary Energy</td>\n",
       "      <td>EJ/yr</td>\n",
       "      <td>2005</td>\n",
       "      <td>133.56</td>\n",
       "    </tr>\n",
       "    <tr>\n",
       "      <th>3</th>\n",
       "      <td>AIM-Enduse 12.1</td>\n",
       "      <td>EMF27-450-Conv</td>\n",
       "      <td>LAM</td>\n",
       "      <td>Emissions|CO2</td>\n",
       "      <td>Mt CO2/yr</td>\n",
       "      <td>2005</td>\n",
       "      <td>3285.00</td>\n",
       "    </tr>\n",
       "    <tr>\n",
       "      <th>4</th>\n",
       "      <td>AIM-Enduse 12.1</td>\n",
       "      <td>EMF27-450-Conv</td>\n",
       "      <td>LAM</td>\n",
       "      <td>Emissions|CO2|Fossil Fuels and Industry</td>\n",
       "      <td>Mt CO2/yr</td>\n",
       "      <td>2005</td>\n",
       "      <td>1422.06</td>\n",
       "    </tr>\n",
       "  </tbody>\n",
       "</table>\n",
       "</div>"
      ],
      "text/plain": [
       "             model        scenario region  \\\n",
       "0  AIM-Enduse 12.1  EMF27-450-Conv   ASIA   \n",
       "1  AIM-Enduse 12.1  EMF27-450-Conv   ASIA   \n",
       "2  AIM-Enduse 12.1  EMF27-450-Conv   ASIA   \n",
       "3  AIM-Enduse 12.1  EMF27-450-Conv    LAM   \n",
       "4  AIM-Enduse 12.1  EMF27-450-Conv    LAM   \n",
       "\n",
       "                                  variable       unit  year     value  \n",
       "0                            Emissions|CO2  Mt CO2/yr  2005  10540.74  \n",
       "1  Emissions|CO2|Fossil Fuels and Industry  Mt CO2/yr  2005   9126.18  \n",
       "2                           Primary Energy      EJ/yr  2005    133.56  \n",
       "3                            Emissions|CO2  Mt CO2/yr  2005   3285.00  \n",
       "4  Emissions|CO2|Fossil Fuels and Industry  Mt CO2/yr  2005   1422.06  "
      ]
     },
     "execution_count": 15,
     "metadata": {},
     "output_type": "execute_result"
    }
   ],
   "source": [
    "df.data.head()"
   ]
  },
  {
   "cell_type": "markdown",
   "metadata": {
    "slideshow": {
     "slide_type": "slide"
    }
   },
   "source": [
    "## Plotting Timeseries"
   ]
  },
  {
   "cell_type": "markdown",
   "metadata": {
    "slideshow": {
     "slide_type": "skip"
    }
   },
   "source": [
    "As a next step, we want to visualize timeseries data. \n",
    "In the plot below, we show CO2 emissions over time for all scenarios provided in the tutorial snapshot data."
   ]
  },
  {
   "cell_type": "code",
   "execution_count": 16,
   "metadata": {
    "slideshow": {
     "slide_type": "slide"
    }
   },
   "outputs": [
    {
     "data": {
      "image/png": "[encoded data removed]",
      "text/plain": [
       "<matplotlib.figure.Figure at 0x7f3552b5be90>"
      ]
     },
     "metadata": {},
     "output_type": "display_data"
    }
   ],
   "source": [
    "df.plot_lines({'variable': 'Emissions|CO2', 'region': 'World'})"
   ]
  },
  {
   "cell_type": "markdown",
   "metadata": {
    "slideshow": {
     "slide_type": "slide"
    }
   },
   "source": [
    "## Validating and querying timeseries data"
   ]
  },
  {
   "cell_type": "markdown",
   "metadata": {
    "slideshow": {
     "slide_type": "skip"
    }
   },
   "source": [
    "When analyzing scenario results, it is often useful to check whether certain timeseries exist or the values are within a specific range. For example, it may make sense to ensure that reported data for historical periods are close to established reference data.\n",
    "\n",
    "The following section provides three illustrations:\n",
    "1. Check whether a timeseries `'Primary Energy'` exists in each scenario (in at least one year).\n",
    "2. Check for every scenario whether the value for `'Primary Energy'` at the global level exceeds 515 EJ/y \n",
    "   in the reference year 2010\n",
    "   (the value must satisfy an upper bound of 515 EJ/y in this notation).\n",
    "3. Check for every scenario whether the value for `'Primary Energy|Coal'` exceeds 400 EJ/y in mid-century.\n",
    "\n",
    "The `validate()` function takes a `filters` dictionary to perform the checks on a selection of models/scenarios\n",
    "similar to the functions introduced above.  \n",
    "The ``criteria`` argument can specify a valid range by an upper and lower bound (``up``, ``lo``) for a variable and a subset of years to which the validation is applied - all scenarios with a value in at least one year outside that range are considered to *not satisfy* the validation.\n",
    "\n",
    "By setting the argument ``exclude=True``, all scenarios failing the validation will be categorized as ``exclude``.\n",
    "These scenarios will not be shown by default in any subsequent data tables or plots."
   ]
  },
  {
   "cell_type": "code",
   "execution_count": 17,
   "metadata": {
    "slideshow": {
     "slide_type": "skip"
    }
   },
   "outputs": [],
   "source": [
    "df.validate?"
   ]
  },
  {
   "cell_type": "code",
   "execution_count": 18,
   "metadata": {
    "slideshow": {
     "slide_type": "slide"
    }
   },
   "outputs": [
    {
     "name": "stderr",
     "output_type": "stream",
     "text": [
      "INFO:root:48 scenarios satisfy the criteria\n"
     ]
    }
   ],
   "source": [
    "df.validate('Primary Energy')"
   ]
  },
  {
   "cell_type": "code",
   "execution_count": 19,
   "metadata": {
    "slideshow": {
     "slide_type": "slide"
    }
   },
   "outputs": [
    {
     "name": "stderr",
     "output_type": "stream",
     "text": [
      "INFO:root:9 data points do not satisfy the criteria (out of 48 scenarios)\n"
     ]
    },
    {
     "data": {
      "text/html": [
       "<style  type=\"text/css\" >\n",
       "    #T_a4cd07c6_db5a_11e7_aabb_6476baa27920row0_col0 {\n",
       "            background-color:  #acdfac;\n",
       "        }    #T_a4cd07c6_db5a_11e7_aabb_6476baa27920row1_col0 {\n",
       "            background-color:  #bfeabf;\n",
       "        }    #T_a4cd07c6_db5a_11e7_aabb_6476baa27920row2_col0 {\n",
       "            background-color:  #bfeabf;\n",
       "        }    #T_a4cd07c6_db5a_11e7_aabb_6476baa27920row3_col0 {\n",
       "            background-color:  #bfeabf;\n",
       "        }    #T_a4cd07c6_db5a_11e7_aabb_6476baa27920row4_col0 {\n",
       "            background-color:  #e5ffe5;\n",
       "        }    #T_a4cd07c6_db5a_11e7_aabb_6476baa27920row5_col0 {\n",
       "            background-color:  #008000;\n",
       "        }    #T_a4cd07c6_db5a_11e7_aabb_6476baa27920row6_col0 {\n",
       "            background-color:  #008000;\n",
       "        }    #T_a4cd07c6_db5a_11e7_aabb_6476baa27920row7_col0 {\n",
       "            background-color:  #008000;\n",
       "        }    #T_a4cd07c6_db5a_11e7_aabb_6476baa27920row8_col0 {\n",
       "            background-color:  #008000;\n",
       "        }</style>  \n",
       "<table id=\"T_a4cd07c6_db5a_11e7_aabb_6476baa27920\" > \n",
       "<thead>    <tr> \n",
       "        <th class=\"blank\" ></th> \n",
       "        <th class=\"blank\" ></th> \n",
       "        <th class=\"blank\" ></th> \n",
       "        <th class=\"blank\" ></th> \n",
       "        <th class=\"blank\" ></th> \n",
       "        <th class=\"blank level0\" ></th> \n",
       "        <th class=\"col_heading level0 col0\" >value</th> \n",
       "    </tr>    <tr> \n",
       "        <th class=\"index_name level0\" >model</th> \n",
       "        <th class=\"index_name level1\" >scenario</th> \n",
       "        <th class=\"index_name level2\" >region</th> \n",
       "        <th class=\"index_name level3\" >variable</th> \n",
       "        <th class=\"index_name level4\" >unit</th> \n",
       "        <th class=\"index_name level5\" >year</th> \n",
       "        <th class=\"blank\" ></th> \n",
       "    </tr></thead> \n",
       "<tbody>    <tr> \n",
       "        <th id=\"T_a4cd07c6_db5a_11e7_aabb_6476baa27920level0_row0\" class=\"row_heading level0 row0\" rowspan=5>AIM-Enduse 12.1</th> \n",
       "        <th id=\"T_a4cd07c6_db5a_11e7_aabb_6476baa27920level1_row0\" class=\"row_heading level1 row0\" >EMF27-450-Conv</th> \n",
       "        <th id=\"T_a4cd07c6_db5a_11e7_aabb_6476baa27920level2_row0\" class=\"row_heading level2 row0\" >World</th> \n",
       "        <th id=\"T_a4cd07c6_db5a_11e7_aabb_6476baa27920level3_row0\" class=\"row_heading level3 row0\" >Primary Energy</th> \n",
       "        <th id=\"T_a4cd07c6_db5a_11e7_aabb_6476baa27920level4_row0\" class=\"row_heading level4 row0\" >EJ/yr</th> \n",
       "        <th id=\"T_a4cd07c6_db5a_11e7_aabb_6476baa27920level5_row0\" class=\"row_heading level5 row0\" >2010</th> \n",
       "        <td id=\"T_a4cd07c6_db5a_11e7_aabb_6476baa27920row0_col0\" class=\"data row0 col0\" >518.89</td> \n",
       "    </tr>    <tr> \n",
       "        <th id=\"T_a4cd07c6_db5a_11e7_aabb_6476baa27920level1_row1\" class=\"row_heading level1 row1\" >EMF27-450-NoCCS</th> \n",
       "        <th id=\"T_a4cd07c6_db5a_11e7_aabb_6476baa27920level2_row1\" class=\"row_heading level2 row1\" >World</th> \n",
       "        <th id=\"T_a4cd07c6_db5a_11e7_aabb_6476baa27920level3_row1\" class=\"row_heading level3 row1\" >Primary Energy</th> \n",
       "        <th id=\"T_a4cd07c6_db5a_11e7_aabb_6476baa27920level4_row1\" class=\"row_heading level4 row1\" >EJ/yr</th> \n",
       "        <th id=\"T_a4cd07c6_db5a_11e7_aabb_6476baa27920level5_row1\" class=\"row_heading level5 row1\" >2010</th> \n",
       "        <td id=\"T_a4cd07c6_db5a_11e7_aabb_6476baa27920row1_col0\" class=\"data row1 col0\" >518.81</td> \n",
       "    </tr>    <tr> \n",
       "        <th id=\"T_a4cd07c6_db5a_11e7_aabb_6476baa27920level1_row2\" class=\"row_heading level1 row2\" >EMF27-550-LimBio</th> \n",
       "        <th id=\"T_a4cd07c6_db5a_11e7_aabb_6476baa27920level2_row2\" class=\"row_heading level2 row2\" >World</th> \n",
       "        <th id=\"T_a4cd07c6_db5a_11e7_aabb_6476baa27920level3_row2\" class=\"row_heading level3 row2\" >Primary Energy</th> \n",
       "        <th id=\"T_a4cd07c6_db5a_11e7_aabb_6476baa27920level4_row2\" class=\"row_heading level4 row2\" >EJ/yr</th> \n",
       "        <th id=\"T_a4cd07c6_db5a_11e7_aabb_6476baa27920level5_row2\" class=\"row_heading level5 row2\" >2010</th> \n",
       "        <td id=\"T_a4cd07c6_db5a_11e7_aabb_6476baa27920row2_col0\" class=\"data row2 col0\" >518.81</td> \n",
       "    </tr>    <tr> \n",
       "        <th id=\"T_a4cd07c6_db5a_11e7_aabb_6476baa27920level1_row3\" class=\"row_heading level1 row3\" >EMF27-Base-FullTech</th> \n",
       "        <th id=\"T_a4cd07c6_db5a_11e7_aabb_6476baa27920level2_row3\" class=\"row_heading level2 row3\" >World</th> \n",
       "        <th id=\"T_a4cd07c6_db5a_11e7_aabb_6476baa27920level3_row3\" class=\"row_heading level3 row3\" >Primary Energy</th> \n",
       "        <th id=\"T_a4cd07c6_db5a_11e7_aabb_6476baa27920level4_row3\" class=\"row_heading level4 row3\" >EJ/yr</th> \n",
       "        <th id=\"T_a4cd07c6_db5a_11e7_aabb_6476baa27920level5_row3\" class=\"row_heading level5 row3\" >2010</th> \n",
       "        <td id=\"T_a4cd07c6_db5a_11e7_aabb_6476baa27920row3_col0\" class=\"data row3 col0\" >518.81</td> \n",
       "    </tr>    <tr> \n",
       "        <th id=\"T_a4cd07c6_db5a_11e7_aabb_6476baa27920level1_row4\" class=\"row_heading level1 row4\" >EMF27-G8-EERE</th> \n",
       "        <th id=\"T_a4cd07c6_db5a_11e7_aabb_6476baa27920level2_row4\" class=\"row_heading level2 row4\" >World</th> \n",
       "        <th id=\"T_a4cd07c6_db5a_11e7_aabb_6476baa27920level3_row4\" class=\"row_heading level3 row4\" >Primary Energy</th> \n",
       "        <th id=\"T_a4cd07c6_db5a_11e7_aabb_6476baa27920level4_row4\" class=\"row_heading level4 row4\" >EJ/yr</th> \n",
       "        <th id=\"T_a4cd07c6_db5a_11e7_aabb_6476baa27920level5_row4\" class=\"row_heading level5 row4\" >2010</th> \n",
       "        <td id=\"T_a4cd07c6_db5a_11e7_aabb_6476baa27920row4_col0\" class=\"data row4 col0\" >518.64</td> \n",
       "    </tr>    <tr> \n",
       "        <th id=\"T_a4cd07c6_db5a_11e7_aabb_6476baa27920level0_row5\" class=\"row_heading level0 row5\" rowspan=4>REMIND 1.5</th> \n",
       "        <th id=\"T_a4cd07c6_db5a_11e7_aabb_6476baa27920level1_row5\" class=\"row_heading level1 row5\" >EMF27-450-Conv</th> \n",
       "        <th id=\"T_a4cd07c6_db5a_11e7_aabb_6476baa27920level2_row5\" class=\"row_heading level2 row5\" >World</th> \n",
       "        <th id=\"T_a4cd07c6_db5a_11e7_aabb_6476baa27920level3_row5\" class=\"row_heading level3 row5\" >Primary Energy</th> \n",
       "        <th id=\"T_a4cd07c6_db5a_11e7_aabb_6476baa27920level4_row5\" class=\"row_heading level4 row5\" >EJ/yr</th> \n",
       "        <th id=\"T_a4cd07c6_db5a_11e7_aabb_6476baa27920level5_row5\" class=\"row_heading level5 row5\" >2010</th> \n",
       "        <td id=\"T_a4cd07c6_db5a_11e7_aabb_6476baa27920row5_col0\" class=\"data row5 col0\" >519.64</td> \n",
       "    </tr>    <tr> \n",
       "        <th id=\"T_a4cd07c6_db5a_11e7_aabb_6476baa27920level1_row6\" class=\"row_heading level1 row6\" >EMF27-450-NoCCS</th> \n",
       "        <th id=\"T_a4cd07c6_db5a_11e7_aabb_6476baa27920level2_row6\" class=\"row_heading level2 row6\" >World</th> \n",
       "        <th id=\"T_a4cd07c6_db5a_11e7_aabb_6476baa27920level3_row6\" class=\"row_heading level3 row6\" >Primary Energy</th> \n",
       "        <th id=\"T_a4cd07c6_db5a_11e7_aabb_6476baa27920level4_row6\" class=\"row_heading level4 row6\" >EJ/yr</th> \n",
       "        <th id=\"T_a4cd07c6_db5a_11e7_aabb_6476baa27920level5_row6\" class=\"row_heading level5 row6\" >2010</th> \n",
       "        <td id=\"T_a4cd07c6_db5a_11e7_aabb_6476baa27920row6_col0\" class=\"data row6 col0\" >519.64</td> \n",
       "    </tr>    <tr> \n",
       "        <th id=\"T_a4cd07c6_db5a_11e7_aabb_6476baa27920level1_row7\" class=\"row_heading level1 row7\" >EMF27-550-LimBio</th> \n",
       "        <th id=\"T_a4cd07c6_db5a_11e7_aabb_6476baa27920level2_row7\" class=\"row_heading level2 row7\" >World</th> \n",
       "        <th id=\"T_a4cd07c6_db5a_11e7_aabb_6476baa27920level3_row7\" class=\"row_heading level3 row7\" >Primary Energy</th> \n",
       "        <th id=\"T_a4cd07c6_db5a_11e7_aabb_6476baa27920level4_row7\" class=\"row_heading level4 row7\" >EJ/yr</th> \n",
       "        <th id=\"T_a4cd07c6_db5a_11e7_aabb_6476baa27920level5_row7\" class=\"row_heading level5 row7\" >2010</th> \n",
       "        <td id=\"T_a4cd07c6_db5a_11e7_aabb_6476baa27920row7_col0\" class=\"data row7 col0\" >519.64</td> \n",
       "    </tr>    <tr> \n",
       "        <th id=\"T_a4cd07c6_db5a_11e7_aabb_6476baa27920level1_row8\" class=\"row_heading level1 row8\" >EMF27-Base-FullTech</th> \n",
       "        <th id=\"T_a4cd07c6_db5a_11e7_aabb_6476baa27920level2_row8\" class=\"row_heading level2 row8\" >World</th> \n",
       "        <th id=\"T_a4cd07c6_db5a_11e7_aabb_6476baa27920level3_row8\" class=\"row_heading level3 row8\" >Primary Energy</th> \n",
       "        <th id=\"T_a4cd07c6_db5a_11e7_aabb_6476baa27920level4_row8\" class=\"row_heading level4 row8\" >EJ/yr</th> \n",
       "        <th id=\"T_a4cd07c6_db5a_11e7_aabb_6476baa27920level5_row8\" class=\"row_heading level5 row8\" >2010</th> \n",
       "        <td id=\"T_a4cd07c6_db5a_11e7_aabb_6476baa27920row8_col0\" class=\"data row8 col0\" >519.64</td> \n",
       "    </tr></tbody> \n",
       "</table> "
      ],
      "text/plain": [
       "<pandas.io.formats.style.Styler at 0x7f3550693ad0>"
      ]
     },
     "execution_count": 19,
     "metadata": {},
     "output_type": "execute_result"
    }
   ],
   "source": [
    "df.validate({'Primary Energy': {'up': 515, 'year': 2010}})"
   ]
  },
  {
   "cell_type": "code",
   "execution_count": 20,
   "metadata": {
    "slideshow": {
     "slide_type": "slide"
    }
   },
   "outputs": [
    {
     "name": "stderr",
     "output_type": "stream",
     "text": [
      "INFO:root:2 data points do not satisfy the criteria (out of 48 scenarios)\n"
     ]
    },
    {
     "data": {
      "text/html": [
       "<style  type=\"text/css\" >\n",
       "    #T_a4f139ac_db5a_11e7_aabb_6476baa27920row0_col0 {\n",
       "            background-color:  #e5ffe5;\n",
       "        }    #T_a4f139ac_db5a_11e7_aabb_6476baa27920row1_col0 {\n",
       "            background-color:  #008000;\n",
       "        }</style>  \n",
       "<table id=\"T_a4f139ac_db5a_11e7_aabb_6476baa27920\" > \n",
       "<thead>    <tr> \n",
       "        <th class=\"blank\" ></th> \n",
       "        <th class=\"blank\" ></th> \n",
       "        <th class=\"blank\" ></th> \n",
       "        <th class=\"blank\" ></th> \n",
       "        <th class=\"blank\" ></th> \n",
       "        <th class=\"blank level0\" ></th> \n",
       "        <th class=\"col_heading level0 col0\" >value</th> \n",
       "    </tr>    <tr> \n",
       "        <th class=\"index_name level0\" >model</th> \n",
       "        <th class=\"index_name level1\" >scenario</th> \n",
       "        <th class=\"index_name level2\" >region</th> \n",
       "        <th class=\"index_name level3\" >variable</th> \n",
       "        <th class=\"index_name level4\" >unit</th> \n",
       "        <th class=\"index_name level5\" >year</th> \n",
       "        <th class=\"blank\" ></th> \n",
       "    </tr></thead> \n",
       "<tbody>    <tr> \n",
       "        <th id=\"T_a4f139ac_db5a_11e7_aabb_6476baa27920level0_row0\" class=\"row_heading level0 row0\" >GCAM 3.0</th> \n",
       "        <th id=\"T_a4f139ac_db5a_11e7_aabb_6476baa27920level1_row0\" class=\"row_heading level1 row0\" >AMPERE3-Base-EUback</th> \n",
       "        <th id=\"T_a4f139ac_db5a_11e7_aabb_6476baa27920level2_row0\" class=\"row_heading level2 row0\" >World</th> \n",
       "        <th id=\"T_a4f139ac_db5a_11e7_aabb_6476baa27920level3_row0\" class=\"row_heading level3 row0\" >Primary Energy|Coal</th> \n",
       "        <th id=\"T_a4f139ac_db5a_11e7_aabb_6476baa27920level4_row0\" class=\"row_heading level4 row0\" >EJ/yr</th> \n",
       "        <th id=\"T_a4f139ac_db5a_11e7_aabb_6476baa27920level5_row0\" class=\"row_heading level5 row0\" >2050</th> \n",
       "        <td id=\"T_a4f139ac_db5a_11e7_aabb_6476baa27920row0_col0\" class=\"data row0 col0\" >424.09</td> \n",
       "    </tr>    <tr> \n",
       "        <th id=\"T_a4f139ac_db5a_11e7_aabb_6476baa27920level0_row1\" class=\"row_heading level0 row1\" >MERGE_EMF27</th> \n",
       "        <th id=\"T_a4f139ac_db5a_11e7_aabb_6476baa27920level1_row1\" class=\"row_heading level1 row1\" >EMF27-Base-FullTech</th> \n",
       "        <th id=\"T_a4f139ac_db5a_11e7_aabb_6476baa27920level2_row1\" class=\"row_heading level2 row1\" >World</th> \n",
       "        <th id=\"T_a4f139ac_db5a_11e7_aabb_6476baa27920level3_row1\" class=\"row_heading level3 row1\" >Primary Energy|Coal</th> \n",
       "        <th id=\"T_a4f139ac_db5a_11e7_aabb_6476baa27920level4_row1\" class=\"row_heading level4 row1\" >EJ/yr</th> \n",
       "        <th id=\"T_a4f139ac_db5a_11e7_aabb_6476baa27920level5_row1\" class=\"row_heading level5 row1\" >2050</th> \n",
       "        <td id=\"T_a4f139ac_db5a_11e7_aabb_6476baa27920row1_col0\" class=\"data row1 col0\" >605.76</td> \n",
       "    </tr></tbody> \n",
       "</table> "
      ],
      "text/plain": [
       "<pandas.io.formats.style.Styler at 0x7f3550686b90>"
      ]
     },
     "execution_count": 20,
     "metadata": {},
     "output_type": "execute_result"
    }
   ],
   "source": [
    "df.validate(\n",
    "    {'Primary Energy|Coal': {'up': 400, 'year': 2050}}, \n",
    "    filters={'region': 'World'}, \n",
    "    exclude=False\n",
    ")"
   ]
  },
  {
   "cell_type": "markdown",
   "metadata": {
    "slideshow": {
     "slide_type": "slide"
    }
   },
   "source": [
    "## Categorization of scenarios by timeseries characteristics"
   ]
  },
  {
   "cell_type": "markdown",
   "metadata": {
    "slideshow": {
     "slide_type": "skip"
    }
   },
   "source": [
    "It is often useful to apply categorization to classes of scenarios according to specific characteristics of the timeseries data.\n",
    "\n",
    "In the following example, we use the temperature change assessment by MAGICC 6 to group scenarios by the median global warming by the end of the century (year 2100).\n",
    "\n",
    "We proceed in the following steps:\n",
    "\n",
    "0. Plot the timeseries data of the variable that we want to use. \n",
    "   This provides some insights on useful thresholds for the categorization.\n",
    "0. Use the function ``category()`` to apply a categorization (and colour code for later use) \n",
    "   to all scenarios that satisfy a number of specific criteria.\n",
    "0. Use the categorization of scenarios for analysis of other timeseries data."
   ]
  },
  {
   "cell_type": "code",
   "execution_count": 21,
   "metadata": {
    "slideshow": {
     "slide_type": "slide"
    }
   },
   "outputs": [
    {
     "data": {
      "image/png": "[encoded data removed]",
      "text/plain": [
       "<matplotlib.figure.Figure at 0x7f35506934d0>"
      ]
     },
     "metadata": {},
     "output_type": "display_data"
    }
   ],
   "source": [
    "df.plot_lines({'variable': 'Temperature*'})"
   ]
  },
  {
   "cell_type": "markdown",
   "metadata": {
    "slideshow": {
     "slide_type": "slide"
    }
   },
   "source": [
    "We now use the categorization feature of the ``pyam-analysis`` package. \n",
    "By default, each model/scenario is assigned as ``\"uncategorized\"``.\n",
    "\n",
    "The next function resets all scenarios back to ``\"uncategorized\"``. This may be helpful in this tutorial if you are going back and forth between cells."
   ]
  },
  {
   "cell_type": "code",
   "execution_count": 22,
   "metadata": {
    "collapsed": true,
    "slideshow": {
     "slide_type": "fragment"
    }
   },
   "outputs": [],
   "source": [
    "df.reset_category()"
   ]
  },
  {
   "cell_type": "code",
   "execution_count": 23,
   "metadata": {
    "slideshow": {
     "slide_type": "fragment"
    }
   },
   "outputs": [
    {
     "name": "stderr",
     "output_type": "stream",
     "text": [
      "INFO:root:4 scenarios categorized as 'Below 1.6C'\n"
     ]
    },
    {
     "data": {
      "text/html": [
       "<div>\n",
       "<style scoped>\n",
       "    .dataframe tbody tr th:only-of-type {\n",
       "        vertical-align: middle;\n",
       "    }\n",
       "\n",
       "    .dataframe tbody tr th {\n",
       "        vertical-align: top;\n",
       "    }\n",
       "\n",
       "    .dataframe thead th {\n",
       "        text-align: right;\n",
       "    }\n",
       "</style>\n",
       "<table border=\"1\" class=\"dataframe\">\n",
       "  <thead>\n",
       "    <tr style=\"text-align: right;\">\n",
       "      <th></th>\n",
       "      <th></th>\n",
       "    </tr>\n",
       "    <tr>\n",
       "      <th>model</th>\n",
       "      <th>scenario</th>\n",
       "    </tr>\n",
       "  </thead>\n",
       "  <tbody>\n",
       "    <tr>\n",
       "      <th rowspan=\"2\" valign=\"top\">GCAM 3.0</th>\n",
       "      <th>EMF27-450-Conv</th>\n",
       "    </tr>\n",
       "    <tr>\n",
       "      <th>EMF27-450-NoCCS</th>\n",
       "    </tr>\n",
       "    <tr>\n",
       "      <th rowspan=\"2\" valign=\"top\">REMIND 1.5</th>\n",
       "      <th>EMF27-450-Conv</th>\n",
       "    </tr>\n",
       "    <tr>\n",
       "      <th>EMF27-450-NoCCS</th>\n",
       "    </tr>\n",
       "  </tbody>\n",
       "</table>\n",
       "</div>"
      ],
      "text/plain": [
       "Empty DataFrame\n",
       "Columns: []\n",
       "Index: [(GCAM 3.0, EMF27-450-Conv), (GCAM 3.0, EMF27-450-NoCCS), (REMIND 1.5, EMF27-450-Conv), (REMIND 1.5, EMF27-450-NoCCS)]"
      ]
     },
     "execution_count": 23,
     "metadata": {},
     "output_type": "execute_result"
    }
   ],
   "source": [
    "df.category(\n",
    "    'Below 1.6C',\n",
    "    {'Temperature|Global Mean|MAGICC6|MED': {'up': 1.6, 'year': 2100}},\n",
    "    color='cornflowerblue',\n",
    "    display='list'\n",
    ")"
   ]
  },
  {
   "cell_type": "code",
   "execution_count": 24,
   "metadata": {
    "slideshow": {
     "slide_type": "slide"
    }
   },
   "outputs": [
    {
     "name": "stderr",
     "output_type": "stream",
     "text": [
      "INFO:root:8 scenarios categorized as 'Below 2.0C'\n"
     ]
    }
   ],
   "source": [
    "df.category(\n",
    "    'Below 2.0C',\n",
    "    {'Temperature|Global Mean|MAGICC6|MED': {'up': 2.0, 'year': 2100}},\n",
    "    filters={'category': 'uncategorized'}, \n",
    "    color='forestgreen'\n",
    ")"
   ]
  },
  {
   "cell_type": "code",
   "execution_count": 25,
   "metadata": {
    "slideshow": {
     "slide_type": "fragment"
    }
   },
   "outputs": [
    {
     "name": "stderr",
     "output_type": "stream",
     "text": [
      "INFO:root:16 scenarios categorized as 'Below 2.5C'\n"
     ]
    }
   ],
   "source": [
    "df.category(\n",
    "    'Below 2.5C',\n",
    "    {'Temperature|Global Mean|MAGICC6|MED': {'up': 2.5, 'year': 2100}},\n",
    "    filters={'category': 'uncategorized'}, \n",
    "    color='gold'\n",
    ")"
   ]
  },
  {
   "cell_type": "code",
   "execution_count": 26,
   "metadata": {
    "slideshow": {
     "slide_type": "fragment"
    }
   },
   "outputs": [
    {
     "name": "stderr",
     "output_type": "stream",
     "text": [
      "INFO:root:3 scenarios categorized as 'Below 3.5C'\n"
     ]
    }
   ],
   "source": [
    "df.category(\n",
    "    'Below 3.5C',\n",
    "    {'Temperature|Global Mean|MAGICC6|MED': {'up': 3.5, 'year': 2100}},\n",
    "    filters={'category': 'uncategorized'}, \n",
    "    color='firebrick'\n",
    ")"
   ]
  },
  {
   "cell_type": "code",
   "execution_count": 27,
   "metadata": {
    "slideshow": {
     "slide_type": "fragment"
    }
   },
   "outputs": [
    {
     "name": "stderr",
     "output_type": "stream",
     "text": [
      "INFO:root:9 scenarios categorized as 'Above 3.5C'\n"
     ]
    }
   ],
   "source": [
    "df.category(\n",
    "    'Above 3.5C',\n",
    "    {'Temperature|Global Mean|MAGICC6|MED': {}},\n",
    "    filters={'category': 'uncategorized'}, \n",
    "    color='magenta'\n",
    ")"
   ]
  },
  {
   "cell_type": "markdown",
   "metadata": {
    "slideshow": {
     "slide_type": "skip"
    }
   },
   "source": [
    "Two models included in the snapshot have not been assessed by MAGICC6 regarding their long-term climate and warming impact. Therefore, the timeseries ``'Temperature|Global Mean|MAGICC6|MED'`` does not exist, and they have not been categorized.\n",
    "\n",
    "Below, we display all scenarios that are uncategorized at this point."
   ]
  },
  {
   "cell_type": "code",
   "execution_count": 28,
   "metadata": {
    "slideshow": {
     "slide_type": "slide"
    }
   },
   "outputs": [
    {
     "data": {
      "text/html": [
       "<div>\n",
       "<style scoped>\n",
       "    .dataframe tbody tr th:only-of-type {\n",
       "        vertical-align: middle;\n",
       "    }\n",
       "\n",
       "    .dataframe tbody tr th {\n",
       "        vertical-align: top;\n",
       "    }\n",
       "\n",
       "    .dataframe thead th {\n",
       "        text-align: right;\n",
       "    }\n",
       "</style>\n",
       "<table border=\"1\" class=\"dataframe\">\n",
       "  <thead>\n",
       "    <tr style=\"text-align: right;\">\n",
       "      <th></th>\n",
       "      <th></th>\n",
       "      <th></th>\n",
       "    </tr>\n",
       "    <tr>\n",
       "      <th>category</th>\n",
       "      <th>model</th>\n",
       "      <th>scenario</th>\n",
       "    </tr>\n",
       "  </thead>\n",
       "  <tbody>\n",
       "    <tr>\n",
       "      <th rowspan=\"8\" valign=\"top\">uncategorized</th>\n",
       "      <th rowspan=\"5\" valign=\"top\">AIM-Enduse 12.1</th>\n",
       "      <th>EMF27-450-Conv</th>\n",
       "    </tr>\n",
       "    <tr>\n",
       "      <th>EMF27-450-NoCCS</th>\n",
       "    </tr>\n",
       "    <tr>\n",
       "      <th>EMF27-550-LimBio</th>\n",
       "    </tr>\n",
       "    <tr>\n",
       "      <th>EMF27-Base-FullTech</th>\n",
       "    </tr>\n",
       "    <tr>\n",
       "      <th>EMF27-G8-EERE</th>\n",
       "    </tr>\n",
       "    <tr>\n",
       "      <th rowspan=\"3\" valign=\"top\">WITCH_EMF27</th>\n",
       "      <th>EMF27-450-Conv</th>\n",
       "    </tr>\n",
       "    <tr>\n",
       "      <th>EMF27-550-LimBio</th>\n",
       "    </tr>\n",
       "    <tr>\n",
       "      <th>EMF27-Base-FullTech</th>\n",
       "    </tr>\n",
       "  </tbody>\n",
       "</table>\n",
       "</div>"
      ],
      "text/plain": [
       "Empty DataFrame\n",
       "Columns: []\n",
       "Index: [(uncategorized, AIM-Enduse 12.1, EMF27-450-Conv), (uncategorized, AIM-Enduse 12.1, EMF27-450-NoCCS), (uncategorized, AIM-Enduse 12.1, EMF27-550-LimBio), (uncategorized, AIM-Enduse 12.1, EMF27-Base-FullTech), (uncategorized, AIM-Enduse 12.1, EMF27-G8-EERE), (uncategorized, WITCH_EMF27, EMF27-450-Conv), (uncategorized, WITCH_EMF27, EMF27-550-LimBio), (uncategorized, WITCH_EMF27, EMF27-Base-FullTech)]"
      ]
     },
     "execution_count": 28,
     "metadata": {},
     "output_type": "execute_result"
    }
   ],
   "source": [
    "df.category('uncategorized', display='list')"
   ]
  },
  {
   "cell_type": "markdown",
   "metadata": {
    "slideshow": {
     "slide_type": "slide"
    }
   },
   "source": [
    "Now, we again display the median global temperature increase for all scenarios, but we use the colouring by category to illustrate the common charateristics across scenarios."
   ]
  },
  {
   "cell_type": "code",
   "execution_count": 29,
   "metadata": {
    "slideshow": {
     "slide_type": "fragment"
    }
   },
   "outputs": [
    {
     "data": {
      "image/png": "[encoded data removed]",
      "text/plain": [
       "<matplotlib.figure.Figure at 0x7f355282d350>"
      ]
     },
     "metadata": {},
     "output_type": "display_data"
    }
   ],
   "source": [
    "df.plot_lines({'variable': 'Temperature*'}, color_by_cat=True)"
   ]
  },
  {
   "cell_type": "markdown",
   "metadata": {
    "slideshow": {
     "slide_type": "slide"
    }
   },
   "source": [
    "As a last step, we display the aggregate CO2 emissions by category. This allows to highlight alternative pathways within the same category. "
   ]
  },
  {
   "cell_type": "code",
   "execution_count": 30,
   "metadata": {
    "slideshow": {
     "slide_type": "fragment"
    }
   },
   "outputs": [
    {
     "data": {
      "image/png": "[encoded data removed]",
      "text/plain": [
       "<matplotlib.figure.Figure at 0x7f3550556f50>"
      ]
     },
     "metadata": {},
     "output_type": "display_data"
    }
   ],
   "source": [
    "df.plot_lines(\n",
    "    {'variable': 'Emissions|CO2', 'region': 'World'}, \n",
    "    color_by_cat=True\n",
    ")"
   ]
  }
 ],
 "metadata": {
  "celltoolbar": "Slideshow",
  "kernelspec": {
   "display_name": "Python 2",
   "language": "python",
   "name": "python2"
  },
  "language_info": {
   "codemirror_mode": {
    "name": "ipython",
    "version": 2
   },
   "file_extension": ".py",
   "mimetype": "text/x-python",
   "name": "python",
   "nbconvert_exporter": "python",
   "pygments_lexer": "ipython2",
   "version": "2.7.12"
  }
 },
 "nbformat": 4,
 "nbformat_minor": 2
}
